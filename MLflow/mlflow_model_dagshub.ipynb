{
 "cells": [
  {
   "cell_type": "code",
   "execution_count": 10,
   "id": "a36dfcf3-0998-4310-8a6c-b246a7f6b298",
   "metadata": {},
   "outputs": [],
   "source": [
    "import numpy as np\n",
    "from sklearn.datasets import make_classification\n",
    "from sklearn.model_selection import train_test_split\n",
    "from sklearn.linear_model import LogisticRegression\n",
    "from sklearn.ensemble import RandomForestClassifier\n",
    "from xgboost import XGBClassifier\n",
    "from sklearn.metrics import classification_report\n",
    "import warnings\n",
    "\n",
    "\n",
    "import mlflow\n",
    "import mlflow.sklearn\n",
    "import mlflow.xgboost\n",
    "\n",
    "warnings.filterwarnings('ignore')"
   ]
  },
  {
   "cell_type": "markdown",
   "id": "4701466b-ce82-4928-a0bf-681124443062",
   "metadata": {},
   "source": [
    "# 1. Create an Imabalanced Binary classification Dataset"
   ]
  },
  {
   "cell_type": "code",
   "execution_count": 2,
   "id": "3a35a10a-912d-4e4a-aedd-19a5a50f9727",
   "metadata": {},
   "outputs": [
    {
     "data": {
      "text/plain": [
       "(array([0, 1]), array([900, 100], dtype=int64))"
      ]
     },
     "execution_count": 2,
     "metadata": {},
     "output_type": "execute_result"
    }
   ],
   "source": [
    "\n",
    "X,y = make_classification(n_samples=1000,n_features=10,n_informative=2,n_redundant=8,weights=[0.9,0.1],flip_y=0,random_state=42)\n",
    "\n",
    "np.unique(y,return_counts=True)"
   ]
  },
  {
   "cell_type": "markdown",
   "id": "71fff7e7-275e-4a4c-8ff8-7231748d4834",
   "metadata": {},
   "source": [
    "# 2. Split data into train and test"
   ]
  },
  {
   "cell_type": "code",
   "execution_count": 3,
   "id": "e1297ef4-06d2-4cd9-b777-5e461293cf43",
   "metadata": {},
   "outputs": [],
   "source": [
    "X_train,X_test,y_train,y_test = train_test_split(X,y,test_size=0.3,random_state=42,stratify=y)\n"
   ]
  },
  {
   "cell_type": "markdown",
   "id": "79a079cb-ddab-4e3b-9695-29204f6d55f3",
   "metadata": {},
   "source": [
    "# 3. Handle Class imbalance using SMOTETomek and then train using XGBoost"
   ]
  },
  {
   "cell_type": "code",
   "execution_count": 5,
   "id": "7184f2b0-0c7d-4b32-9ae5-685bbccb8b9e",
   "metadata": {},
   "outputs": [
    {
     "data": {
      "text/plain": [
       "(array([0, 1]), array([619, 619], dtype=int64))"
      ]
     },
     "execution_count": 5,
     "metadata": {},
     "output_type": "execute_result"
    }
   ],
   "source": [
    "from imblearn.combine import SMOTETomek\n",
    "\n",
    "smt = SMOTETomek(random_state=42)\n",
    "X_train_res,y_train_res = smt.fit_resample(X_train,y_train)\n",
    "\n",
    "np.unique(y_train_res,return_counts=True)"
   ]
  },
  {
   "cell_type": "markdown",
   "id": "72ab6bc0-0d42-4d93-84e5-8e7b05604204",
   "metadata": {},
   "source": [
    "# 4. Track all Models in one place"
   ]
  },
  {
   "cell_type": "code",
   "execution_count": 8,
   "id": "c55033e6-6873-4d04-9ad8-8f1ed574c52e",
   "metadata": {},
   "outputs": [],
   "source": [
    "models = [\n",
    "(\n",
    "    \"Logistic Regression\",\n",
    "    {\"C\":1,\"solver\":'liblinear'},\n",
    "    LogisticRegression(),\n",
    "    (X_train,y_train),\n",
    "    (X_test,y_test)\n",
    "),\n",
    "    \n",
    "(\n",
    "    \"Random Forest\",\n",
    "    {\"n_estimators\":30,\"criterion\":'gini',\"max_depth\":3},\n",
    "    RandomForestClassifier(),\n",
    "    (X_train,y_train),\n",
    "    (X_test,y_test)\n",
    "),\n",
    "\n",
    "(\n",
    "    \"XGB Classifier\",\n",
    "    {\"use_label_encoder\":False,\"eval_metric\":'logloss'},\n",
    "    XGBClassifier(),\n",
    "    (X_train,y_train),\n",
    "    (X_test,y_test)\n",
    "),\n",
    "\n",
    "(\n",
    "    \"XGB Classifier with SMOTE\",\n",
    "    {\"use_label_encoder\":False,\"eval_metric\":'logloss'},\n",
    "    XGBClassifier(),\n",
    "    (X_train_res,y_train_res),\n",
    "    (X_test,y_test)\n",
    ")\n",
    "\n",
    "]"
   ]
  },
  {
   "cell_type": "markdown",
   "id": "8ebd36ab-9c89-4c80-89ca-bacf2ce8741b",
   "metadata": {},
   "source": [
    "# 5. Read Model and Predict  "
   ]
  },
  {
   "cell_type": "code",
   "execution_count": 9,
   "id": "cb2acdaa-49a9-406c-9076-e6d7e8054a7d",
   "metadata": {},
   "outputs": [],
   "source": [
    "reports = []\n",
    "\n",
    "for model_name, params, model, train_set, test_set in models:\n",
    "    X_train = train_set[0]\n",
    "    y_train = train_set[1]\n",
    "    X_test = test_set[0]\n",
    "    y_test = test_set[1]\n",
    "    \n",
    "    model.set_params(**params)\n",
    "    model.fit(X_train, y_train)\n",
    "    y_pred = model.predict(X_test)\n",
    "    report = classification_report(y_test, y_pred, output_dict=True)\n",
    "    reports.append(report)"
   ]
  },
  {
   "cell_type": "markdown",
   "id": "30ee002d-4d83-4fa3-8656-aa979aadfee7",
   "metadata": {},
   "source": [
    "# 6. Initialize Dagshub"
   ]
  },
  {
   "cell_type": "code",
   "execution_count": 14,
   "id": "3478fef1-d595-44e6-ad85-da1415346fb2",
   "metadata": {},
   "outputs": [
    {
     "data": {
      "text/html": [
       "<pre style=\"white-space:pre;overflow-x:auto;line-height:normal;font-family:Menlo,'DejaVu Sans Mono',consolas,'Courier New',monospace\">                                       <span style=\"font-weight: bold\">❗❗❗ AUTHORIZATION REQUIRED ❗❗❗</span>                                        \n",
       "</pre>\n"
      ],
      "text/plain": [
       "                                       \u001b[1m❗❗❗ AUTHORIZATION REQUIRED ❗❗❗\u001b[0m                                        \n"
      ]
     },
     "metadata": {},
     "output_type": "display_data"
    },
    {
     "name": "stdout",
     "output_type": "stream",
     "text": [
      "\n",
      "\n",
      "Open the following link in your browser to authorize the client:\n",
      "https://dagshub.com/login/oauth/authorize?state=c32cb2b9-c7d7-45e0-bfec-9a47cfae5df5&client_id=32b60ba385aa7cecf24046d8195a71c07dd345d9657977863b52e7748e0f0f28&middleman_request_id=24c839ba6386278971cbb9375da38b00bbdcba9a0a2c6ed2ed6a345fc0f6991b\n",
      "\n",
      "\n"
     ]
    },
    {
     "data": {
      "application/vnd.jupyter.widget-view+json": {
       "model_id": "",
       "version_major": 2,
       "version_minor": 0
      },
      "text/plain": [
       "Output()"
      ]
     },
     "metadata": {},
     "output_type": "display_data"
    },
    {
     "data": {
      "text/html": [
       "<pre style=\"white-space:pre;overflow-x:auto;line-height:normal;font-family:Menlo,'DejaVu Sans Mono',consolas,'Courier New',monospace\"></pre>\n"
      ],
      "text/plain": []
     },
     "metadata": {},
     "output_type": "display_data"
    },
    {
     "data": {
      "text/html": [
       "<pre style=\"white-space:pre;overflow-x:auto;line-height:normal;font-family:Menlo,'DejaVu Sans Mono',consolas,'Courier New',monospace\">Accessing as VenkyJishu\n",
       "</pre>\n"
      ],
      "text/plain": [
       "Accessing as VenkyJishu\n"
      ]
     },
     "metadata": {},
     "output_type": "display_data"
    },
    {
     "data": {
      "text/html": [
       "<pre style=\"white-space:pre;overflow-x:auto;line-height:normal;font-family:Menlo,'DejaVu Sans Mono',consolas,'Courier New',monospace\">Initialized MLflow to track repo <span style=\"color: #008000; text-decoration-color: #008000\">\"VenkyJishu/MLOPS\"</span>\n",
       "</pre>\n"
      ],
      "text/plain": [
       "Initialized MLflow to track repo \u001b[32m\"VenkyJishu/MLOPS\"\u001b[0m\n"
      ]
     },
     "metadata": {},
     "output_type": "display_data"
    },
    {
     "data": {
      "text/html": [
       "<pre style=\"white-space:pre;overflow-x:auto;line-height:normal;font-family:Menlo,'DejaVu Sans Mono',consolas,'Courier New',monospace\">Repository VenkyJishu/MLOPS initialized!\n",
       "</pre>\n"
      ],
      "text/plain": [
       "Repository VenkyJishu/MLOPS initialized!\n"
      ]
     },
     "metadata": {},
     "output_type": "display_data"
    }
   ],
   "source": [
    "import dagshub\n",
    "dagshub.init(repo_owner='VenkyJishu', repo_name='MLOPS', mlflow=True)\n"
   ]
  },
  {
   "cell_type": "markdown",
   "id": "88f841ed-bb06-4ecf-84b9-e062d34312b3",
   "metadata": {},
   "source": [
    "# 7. Register Model in Dagshub using MLflow"
   ]
  },
  {
   "cell_type": "code",
   "execution_count": 18,
   "id": "5c1bd087-fa89-475d-a572-0f7dfa924166",
   "metadata": {},
   "outputs": [
    {
     "name": "stderr",
     "output_type": "stream",
     "text": [
      "2024/10/09 17:36:13 WARNING mlflow.models.model: Model logged without a signature and input example. Please set `input_example` parameter when logging the model to auto infer the model signature.\n",
      "2024/10/09 17:36:17 INFO mlflow.tracking._tracking_service.client: 🏃 View run Logistic Regression at: https://dagshub.com/VenkyJishu/MLOPS.mlflow/#/experiments/0/runs/5c2500798d7e4c279dd4227364b4d27e.\n",
      "2024/10/09 17:36:17 INFO mlflow.tracking._tracking_service.client: 🧪 View experiment at: https://dagshub.com/VenkyJishu/MLOPS.mlflow/#/experiments/0.\n",
      "2024/10/09 17:36:23 WARNING mlflow.models.model: Model logged without a signature and input example. Please set `input_example` parameter when logging the model to auto infer the model signature.\n",
      "2024/10/09 17:36:27 INFO mlflow.tracking._tracking_service.client: 🏃 View run Random Forest at: https://dagshub.com/VenkyJishu/MLOPS.mlflow/#/experiments/0/runs/078abaded4174f2f853dfe1541f08b63.\n",
      "2024/10/09 17:36:27 INFO mlflow.tracking._tracking_service.client: 🧪 View experiment at: https://dagshub.com/VenkyJishu/MLOPS.mlflow/#/experiments/0.\n",
      "2024/10/09 17:36:33 WARNING mlflow.models.model: Model logged without a signature and input example. Please set `input_example` parameter when logging the model to auto infer the model signature.\n",
      "2024/10/09 17:36:38 INFO mlflow.tracking._tracking_service.client: 🏃 View run XGB Classifier at: https://dagshub.com/VenkyJishu/MLOPS.mlflow/#/experiments/0/runs/6556c99cdc3e4c57835641a5db127ac1.\n",
      "2024/10/09 17:36:38 INFO mlflow.tracking._tracking_service.client: 🧪 View experiment at: https://dagshub.com/VenkyJishu/MLOPS.mlflow/#/experiments/0.\n",
      "2024/10/09 17:36:44 WARNING mlflow.models.model: Model logged without a signature and input example. Please set `input_example` parameter when logging the model to auto infer the model signature.\n",
      "2024/10/09 17:36:48 INFO mlflow.tracking._tracking_service.client: 🏃 View run XGB Classifier with SMOTE at: https://dagshub.com/VenkyJishu/MLOPS.mlflow/#/experiments/0/runs/faf3a3425cf146548777bfdca5601137.\n",
      "2024/10/09 17:36:48 INFO mlflow.tracking._tracking_service.client: 🧪 View experiment at: https://dagshub.com/VenkyJishu/MLOPS.mlflow/#/experiments/0.\n"
     ]
    }
   ],
   "source": [
    "import mlflow\n",
    "import os\n",
    "\n",
    "os.environ['MLFLOW_TRACKING_USERNAME'] ='VenkyJishu' #'your user name'\n",
    "os.environ['MLFLOW_TRACKING_PASSWORD'] = 'b9bcd14368067ad120b9176f8ed51febfcad7ec0' #'your password' # \n",
    "os.environ['MLFLOW_TRACKING_URI'] = 'https://dagshub.com/VenkyJishu/MLOPS.mlflow'  #'your dagshub unique uri' # click under remote to get this in dagshub repo\n",
    "\n",
    "mlflow.set_experiment(\"Anomoly Detection-V2\")\n",
    "#mlflow.set_tracking_uri(\"http://127.0.0.1:5000/\")\n",
    "\n",
    "for i,element in enumerate(models):\n",
    "    model_name = element[0]\n",
    "    params_v2 = element[1]\n",
    "    model = element[2]\n",
    "    rep = reports[i]\n",
    "\n",
    "    with mlflow.start_run(run_name=model_name):\n",
    "        mlflow.log_param('dagshub_venky',model_name)\n",
    "        mlflow.log_params(params_v2)\n",
    "        mlflow.log_metrics(\n",
    "        {\n",
    "            'accuracy':rep['accuracy'],\n",
    "            'recall_class_0': rep['0']['recall'],\n",
    "            'recall_class_1': rep['1']['recall'],\n",
    "            'f1_score_macro_avg':rep['macro avg']['f1-score']            \n",
    "        }        \n",
    "                          )\n",
    "\n",
    "        if \"XGB\" in model_name:\n",
    "            mlflow.xgboost.log_model(model,\"model\")\n",
    "        else:\n",
    "            mlflow.sklearn.log_model(model,\"model\")"
   ]
  },
  {
   "cell_type": "code",
   "execution_count": null,
   "id": "b8db2ad5-0947-4573-8d3e-c7dfba11c473",
   "metadata": {},
   "outputs": [],
   "source": []
  }
 ],
 "metadata": {
  "kernelspec": {
   "display_name": "Python 3 (ipykernel)",
   "language": "python",
   "name": "python3"
  },
  "language_info": {
   "codemirror_mode": {
    "name": "ipython",
    "version": 3
   },
   "file_extension": ".py",
   "mimetype": "text/x-python",
   "name": "python",
   "nbconvert_exporter": "python",
   "pygments_lexer": "ipython3",
   "version": "3.11.7"
  }
 },
 "nbformat": 4,
 "nbformat_minor": 5
}
